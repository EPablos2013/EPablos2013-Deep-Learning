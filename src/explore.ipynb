{
  "cells": [
    {
      "cell_type": "markdown",
      "metadata": {
        "id": "AvmNVvFSgLzR"
      },
      "source": [
        "# Explore here"
      ]
    },
    {
      "cell_type": "code",
      "execution_count": 1,
      "metadata": {
        "id": "WxR7eNidgLzT"
      },
      "outputs": [],
      "source": [
        "import requests\n",
        "import zipfile\n",
        "import io\n",
        "\n",
        "url = \"https://storage.googleapis.com/datascience-materials/dogs-vs-cats.zip\"\n",
        "response = requests.get(url)\n",
        "response.raise_for_status()\n",
        "\n",
        "with zipfile.ZipFile(io.BytesIO(response.content)) as z:\n",
        "    z.extractall(\"dogs-vs-cats\")"
      ]
    },
    {
      "cell_type": "markdown",
      "metadata": {
        "id": "HWtnD3hAgLzU"
      },
      "source": [
        "------------------------------------------------------"
      ]
    },
    {
      "cell_type": "code",
      "execution_count": 2,
      "metadata": {
        "id": "ShpqlOYggLzU"
      },
      "outputs": [],
      "source": [
        "import os\n",
        "import shutil\n",
        "\n",
        "images_folder = \"/workspaces/EPablos2013-Deep-Learning/src/dogs-vs-cats\"\n",
        "source_folder = \"/workspaces/EPablos2013-Deep-Learning/src/dogs-vs-cats/dogs-vs-cats/train\"\n",
        "cats_folder = \"/workspaces/EPablos2013-Deep-Learning/src/dogs-vs-cats/dogs-vs-cats/train/cats\"\n",
        "dogs_folder = \"/workspaces/EPablos2013-Deep-Learning/src/dogs-vs-cats/dogs-vs-cats/train/dogs\"\n",
        "\n",
        "# Crear carpetas si no existen\n",
        "os.makedirs(source_folder, exist_ok=True)\n",
        "os.makedirs(cats_folder, exist_ok=True)\n",
        "os.makedirs(dogs_folder, exist_ok=True)\n",
        "\n",
        "for filename in os.listdir(images_folder):\n",
        "    file_path = os.path.join(images_folder, filename)\n",
        "    if os.path.isfile(file_path):\n",
        "        nombre = filename.lower()\n",
        "        if nombre.startswith(\"cat\"):\n",
        "            shutil.copy(file_path, os.path.join(cats_folder, filename))\n",
        "        elif nombre.startswith(\"dog\"):\n",
        "            shutil.copy(file_path, os.path.join(dogs_folder, filename))\n",
        "\n"
      ]
    },
    {
      "cell_type": "code",
      "execution_count": 3,
      "metadata": {
        "id": "y-UmRJy1gLzU"
      },
      "outputs": [],
      "source": [
        "from keras.preprocessing import image\n",
        "import numpy as np\n",
        "import os\n",
        "\n",
        "def load_and_preprocess_images(data_dir, target_size=(224, 224)):\n",
        "    images = []\n",
        "    labels = []\n",
        "    valid_extensions = ('.jpg', '.jpeg', '.png')\n",
        "\n",
        "    for label in os.listdir(data_dir):\n",
        "        label_dir = os.path.join(data_dir, label)\n",
        "        if os.path.isdir(label_dir):\n",
        "            for filename in os.listdir(label_dir):\n",
        "                if not filename.lower().endswith(valid_extensions):\n",
        "                    continue  # Ignora archivos que no sean imágenes\n",
        "\n",
        "                img_path = os.path.join(label_dir, filename)\n",
        "                try:\n",
        "                    img = image.load_img(img_path, target_size=target_size)\n",
        "                    img_array = image.img_to_array(img)\n",
        "                    img_array /= 255.0  # Normalizar los valores de píxeles\n",
        "                    images.append(img_array)\n",
        "\n",
        "                    # Asigna la etiqueta 0 para \"cat\" y 1 para \"dog\"\n",
        "                    if label.lower() == \"cats\":\n",
        "                        labels.append(0)\n",
        "                    elif label.lower() == \"dogs\":\n",
        "                        labels.append(1)\n",
        "                except Exception as e:\n",
        "                    print(f\"Error cargando la imagen {img_path}: {e}\")\n",
        "\n",
        "    return np.array(images), np.array(labels)"
      ]
    },
    {
      "cell_type": "code",
      "execution_count": 4,
      "metadata": {
        "id": "7qgtSNv_gLzU",
        "outputId": "7960b1f4-d6a8-4332-e98b-8ce6a120caff",
        "colab": {
          "base_uri": "https://localhost:8080/",
          "height": 332
        }
      },
      "outputs": [
        {
          "output_type": "error",
          "ename": "FileNotFoundError",
          "evalue": "[Errno 2] No such file or directory: '../data/train'",
          "traceback": [
            "\u001b[0;31m---------------------------------------------------------------------------\u001b[0m",
            "\u001b[0;31mFileNotFoundError\u001b[0m                         Traceback (most recent call last)",
            "\u001b[0;32m/tmp/ipython-input-2631086384.py\u001b[0m in \u001b[0;36m<cell line: 0>\u001b[0;34m()\u001b[0m\n\u001b[1;32m      4\u001b[0m \u001b[0;34m\u001b[0m\u001b[0m\n\u001b[1;32m      5\u001b[0m \u001b[0;31m# Cargar imágenes y etiquetas\u001b[0m\u001b[0;34m\u001b[0m\u001b[0;34m\u001b[0m\u001b[0m\n\u001b[0;32m----> 6\u001b[0;31m \u001b[0mimages\u001b[0m\u001b[0;34m,\u001b[0m \u001b[0mlabels\u001b[0m \u001b[0;34m=\u001b[0m \u001b[0mload_and_preprocess_images\u001b[0m\u001b[0;34m(\u001b[0m\u001b[0mdata_dir\u001b[0m\u001b[0;34m)\u001b[0m\u001b[0;34m\u001b[0m\u001b[0;34m\u001b[0m\u001b[0m\n\u001b[0m\u001b[1;32m      7\u001b[0m \u001b[0;34m\u001b[0m\u001b[0m\n\u001b[1;32m      8\u001b[0m \u001b[0;31m# Verifica cuántas se cargaron\u001b[0m\u001b[0;34m\u001b[0m\u001b[0;34m\u001b[0m\u001b[0m\n",
            "\u001b[0;32m/tmp/ipython-input-2601762101.py\u001b[0m in \u001b[0;36mload_and_preprocess_images\u001b[0;34m(data_dir, target_size)\u001b[0m\n\u001b[1;32m      8\u001b[0m     \u001b[0mvalid_extensions\u001b[0m \u001b[0;34m=\u001b[0m \u001b[0;34m(\u001b[0m\u001b[0;34m'.jpg'\u001b[0m\u001b[0;34m,\u001b[0m \u001b[0;34m'.jpeg'\u001b[0m\u001b[0;34m,\u001b[0m \u001b[0;34m'.png'\u001b[0m\u001b[0;34m)\u001b[0m\u001b[0;34m\u001b[0m\u001b[0;34m\u001b[0m\u001b[0m\n\u001b[1;32m      9\u001b[0m \u001b[0;34m\u001b[0m\u001b[0m\n\u001b[0;32m---> 10\u001b[0;31m     \u001b[0;32mfor\u001b[0m \u001b[0mlabel\u001b[0m \u001b[0;32min\u001b[0m \u001b[0mos\u001b[0m\u001b[0;34m.\u001b[0m\u001b[0mlistdir\u001b[0m\u001b[0;34m(\u001b[0m\u001b[0mdata_dir\u001b[0m\u001b[0;34m)\u001b[0m\u001b[0;34m:\u001b[0m\u001b[0;34m\u001b[0m\u001b[0;34m\u001b[0m\u001b[0m\n\u001b[0m\u001b[1;32m     11\u001b[0m         \u001b[0mlabel_dir\u001b[0m \u001b[0;34m=\u001b[0m \u001b[0mos\u001b[0m\u001b[0;34m.\u001b[0m\u001b[0mpath\u001b[0m\u001b[0;34m.\u001b[0m\u001b[0mjoin\u001b[0m\u001b[0;34m(\u001b[0m\u001b[0mdata_dir\u001b[0m\u001b[0;34m,\u001b[0m \u001b[0mlabel\u001b[0m\u001b[0;34m)\u001b[0m\u001b[0;34m\u001b[0m\u001b[0;34m\u001b[0m\u001b[0m\n\u001b[1;32m     12\u001b[0m         \u001b[0;32mif\u001b[0m \u001b[0mos\u001b[0m\u001b[0;34m.\u001b[0m\u001b[0mpath\u001b[0m\u001b[0;34m.\u001b[0m\u001b[0misdir\u001b[0m\u001b[0;34m(\u001b[0m\u001b[0mlabel_dir\u001b[0m\u001b[0;34m)\u001b[0m\u001b[0;34m:\u001b[0m\u001b[0;34m\u001b[0m\u001b[0;34m\u001b[0m\u001b[0m\n",
            "\u001b[0;31mFileNotFoundError\u001b[0m: [Errno 2] No such file or directory: '../data/train'"
          ]
        }
      ],
      "source": [
        "#CORRECCIÓN\n",
        "\n",
        "data_dir = \"../data/train\"\n",
        "\n",
        "# Cargar imágenes y etiquetas\n",
        "images, labels = load_and_preprocess_images(data_dir)\n",
        "\n",
        "# Verifica cuántas se cargaron\n",
        "print(f\"Total imágenes cargadas: {images.shape}\")\n",
        "print(f\"Total etiquetas cargadas: {labels.shape}\")\n",
        "\n",
        "# Dividir en train/test si hay datos\n",
        "if len(images) > 0:\n",
        "    from sklearn.model_selection import train_test_split\n",
        "    from keras.utils import to_categorical\n",
        "\n",
        "    train_images, test_images, train_labels, test_labels = train_test_split(\n",
        "        images, labels, test_size=0.2, random_state=42\n",
        "    )\n",
        "\n",
        "    train_labels = to_categorical(train_labels, num_classes=2)\n",
        "    test_labels = to_categorical(test_labels, num_classes=2)\n",
        "\n",
        "    print(\"Conjunto de datos dividido correctamente.\")\n",
        "else:\n",
        "    print(\"No se cargaron imágenes. Verifica la ruta o el contenido del directorio.\")"
      ]
    },
    {
      "cell_type": "code",
      "execution_count": null,
      "metadata": {
        "id": "8lmhs70ogLzV"
      },
      "outputs": [],
      "source": [
        "from sklearn.model_selection import train_test_split\n",
        "\n",
        "train_images, test_images, train_labels, test_labels = train_test_split(images, labels, test_size=0.2, random_state=42)\n",
        "\n",
        "from keras.utils import to_categorical\n",
        "\n",
        "train_labels = to_categorical(train_labels, num_classes=2)\n",
        "test_labels = to_categorical(test_labels, num_classes=2)"
      ]
    },
    {
      "cell_type": "code",
      "execution_count": null,
      "metadata": {
        "id": "JY1oGdQFgLzV"
      },
      "outputs": [],
      "source": [
        "from tensorflow.keras.preprocessing.image import ImageDataGenerator\n",
        "\n",
        "train_datagen = ImageDataGenerator()\n",
        "train_datagen_10_percent = ImageDataGenerator(rescale=1/255.)\n",
        "\n",
        "train_data = train_datagen_10_percent.flow_from_directory(directory=\"/workspaces/EPablos2013-Deep-Learning/data/train\",\n",
        "                                                          target_size=(224, 224),\n",
        "                                                          class_mode='categorical',\n",
        "                                                          batch_size=32,\n",
        "                                                          shuffle=True)"
      ]
    }
  ],
  "metadata": {
    "kernelspec": {
      "display_name": "Python 3",
      "language": "python",
      "name": "python3"
    },
    "language_info": {
      "codemirror_mode": {
        "name": "ipython",
        "version": 3
      },
      "file_extension": ".py",
      "mimetype": "text/x-python",
      "name": "python",
      "nbconvert_exporter": "python",
      "pygments_lexer": "ipython3",
      "version": "3.11.4"
    },
    "orig_nbformat": 4,
    "colab": {
      "provenance": []
    }
  },
  "nbformat": 4,
  "nbformat_minor": 0
}